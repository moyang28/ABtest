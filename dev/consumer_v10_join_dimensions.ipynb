{
 "cells": [
  {
   "cell_type": "code",
   "execution_count": 1,
   "metadata": {
    "collapsed": false
   },
   "outputs": [],
   "source": [
    "import os  \n",
    "os.environ['PYSPARK_SUBMIT_ARGS'] = '--packages org.apache.spark:spark-streaming-kafka-0-8_2.11:2.0.2 pyspark-shell'  \n",
    "from pyspark import SparkContext\n",
    "from pyspark.streaming import StreamingContext  \n",
    "from pyspark.streaming.kafka import KafkaUtils  \n",
    "from datetime import datetime\n",
    "\n",
    "batch_interval = 1\n",
    "window_length = 12 * batch_interval\n",
    "frequency = 6 * batch_interval\n",
    "\n",
    "sc = SparkContext(appName=\"CTR\")\n",
    "sc.setLogLevel(\"WARN\")\n",
    "ssc = StreamingContext(sc, batch_interval)\n",
    "\n",
    "directKafkaStream = KafkaUtils.createDirectStream(ssc, ['topic_click'], {\"metadata.broker.list\": 'localhost:port'})"
   ]
  },
  {
   "cell_type": "code",
   "execution_count": 2,
   "metadata": {
    "collapsed": true
   },
   "outputs": [],
   "source": [
    "lines = directKafkaStream.map(lambda x: x[1])"
   ]
  },
  {
   "cell_type": "code",
   "execution_count": 3,
   "metadata": {
    "collapsed": false
   },
   "outputs": [],
   "source": [
    "import re\n",
    "def mk_int(s):\n",
    "    s = s.strip()\n",
    "    return int(s) if s else 0\n",
    "def tuple_sum(a, b):\n",
    "    return [a[0]+b[0], a[1]+b[1]]\n",
    "def tuple_minus(a, b):\n",
    "    return [a[0]-b[0], a[1]-b[1]]"
   ]
  },
  {
   "cell_type": "code",
   "execution_count": 4,
   "metadata": {
    "collapsed": true
   },
   "outputs": [],
   "source": [
    "def insert_into_mysql(group_id, clicks, total):\n",
    "    import MySQLdb\n",
    "    conn = MySQLdb.connect(host= \"host\",\n",
    "                      user=\"uid\",\n",
    "                      passwd=\"pwd\",\n",
    "                      db=\"db\")\n",
    "    \n",
    "    try:\n",
    "        x = conn.cursor()\n",
    "        x.execute(\"select yn from abonoff;\")\n",
    "        abonoff = 0\n",
    "        for row in x:\n",
    "            abonoff = int(row[0])\n",
    "        if abonoff == 1:\n",
    "            if group_id == 1:\n",
    "                x.execute(\"\"\"INSERT INTO ctr_4 VALUES (%s,%s,%s,%s,%s,%s,%s)\"\"\",(datetime.now(), \"test\", clicks, total, \" \", \" \", datetime.now()))\n",
    "            else:\n",
    "                x.execute(\"\"\"INSERT INTO ctr_4 VALUES (%s,%s,%s,%s,%s,%s,%s)\"\"\",(datetime.now(), \"control\", clicks, total, \" \", \" \", datetime.now()))\n",
    "        else:\n",
    "            x.execute(\"\"\"INSERT INTO ctr_4 VALUES (%s,%s,%s,%s,%s,%s,%s)\"\"\",(datetime.now(), \"control\", clicks, total, \" \", \" \", datetime.now()))\n",
    "        conn.commit()\n",
    "        return (str(group_id) + \" \" + str(abonoff), 100.0 * clicks / total)\n",
    "    except Exception, e:\n",
    "        conn.rollback()\n",
    "        return (str(e), 100.0 * clicks / total)\n",
    "    conn.close()\n",
    "    # return (\"ctr = \", 100.0 * clicks / total)"
   ]
  },
  {
   "cell_type": "code",
   "execution_count": 6,
   "metadata": {
    "collapsed": false
   },
   "outputs": [],
   "source": [
    "user_info = sc.textFile(\"s3n://moyang28/UserInfo.tsv\")"
   ]
  },
  {
   "cell_type": "code",
   "execution_count": 8,
   "metadata": {
    "collapsed": false,
    "scrolled": true
   },
   "outputs": [
    {
     "data": {
      "text/plain": [
       "pyspark.rdd.PipelinedRDD"
      ]
     },
     "execution_count": 8,
     "metadata": {},
     "output_type": "execute_result"
    }
   ],
   "source": [
    "# user_info = user_info.flatMap(lambda line: line.split(\"\\t\")[:])\n",
    "user_info = user_info.map(lambda line: line.split(\"\\t\")[:])\n",
    "type(user_info)\n",
    "# user_info.pprint(10)"
   ]
  },
  {
   "cell_type": "code",
   "execution_count": 12,
   "metadata": {
    "collapsed": true
   },
   "outputs": [],
   "source": [
    "ctr = lines.map(lambda line: line.split(\"\\t\")) \n",
    "# ctr.pprint()"
   ]
  },
  {
   "cell_type": "code",
   "execution_count": 13,
   "metadata": {
    "collapsed": true
   },
   "outputs": [],
   "source": [
    "ctr = ctr.map(lambda click: (click[0], mk_int(click[-1]))) \n",
    "# ctr.pprint()  "
   ]
  },
  {
   "cell_type": "code",
   "execution_count": 14,
   "metadata": {
    "collapsed": true
   },
   "outputs": [],
   "source": [
    "ctr = ctr.reduceByKey(lambda a, b: a+b) \n",
    "# ctr.pprint()  "
   ]
  },
  {
   "cell_type": "code",
   "execution_count": 15,
   "metadata": {
    "collapsed": false
   },
   "outputs": [],
   "source": [
    "ctr = ctr.map(lambda kvpair: (mk_int(kvpair[0])%2, (kvpair[1], 1)))\n",
    "# ctr.pprint()  "
   ]
  },
  {
   "cell_type": "code",
   "execution_count": 16,
   "metadata": {
    "collapsed": false
   },
   "outputs": [],
   "source": [
    "ctr = ctr.reduceByKeyAndWindow(lambda a, b: tuple_sum(a, b), None, 12, 6)\n",
    "# ctr.pprint()"
   ]
  },
  {
   "cell_type": "code",
   "execution_count": null,
   "metadata": {
    "collapsed": true
   },
   "outputs": [],
   "source": [
    "ctr = ctr.flatMap(lambda row: insert_into_mysql(row[0], row[1][0], row[1][1]) )\n",
    "ctr.pprint()"
   ]
  },
  {
   "cell_type": "code",
   "execution_count": null,
   "metadata": {
    "collapsed": true
   },
   "outputs": [],
   "source": []
  },
  {
   "cell_type": "code",
   "execution_count": null,
   "metadata": {
    "collapsed": false,
    "scrolled": true
   },
   "outputs": [
    {
     "name": "stdout",
     "output_type": "stream",
     "text": [
      "-------------------------------------------\n",
      "Time: 2017-09-29 21:41:03\n",
      "-------------------------------------------\n",
      "0 0\n",
      "1.09539023277\n",
      "1 0\n",
      "0.995625282848\n",
      "\n",
      "-------------------------------------------\n",
      "Time: 2017-09-29 21:41:09\n",
      "-------------------------------------------\n",
      "0 0\n",
      "1.11821086262\n",
      "1 0\n",
      "1.03222557905\n",
      "\n",
      "-------------------------------------------\n",
      "Time: 2017-09-29 21:41:15\n",
      "-------------------------------------------\n",
      "0 0\n",
      "1.07438016529\n",
      "1 0\n",
      "1.10766045549\n",
      "\n",
      "-------------------------------------------\n",
      "Time: 2017-09-29 21:41:21\n",
      "-------------------------------------------\n",
      "0 0\n",
      "1.18769883351\n",
      "1 0\n",
      "1.03934669636\n",
      "\n",
      "-------------------------------------------\n",
      "Time: 2017-09-29 21:41:27\n",
      "-------------------------------------------\n",
      "0 0\n",
      "1.1690821256\n",
      "1 0\n",
      "0.940950552088\n",
      "\n",
      "-------------------------------------------\n",
      "Time: 2017-09-29 21:41:33\n",
      "-------------------------------------------\n",
      "0 0\n",
      "1.08594765175\n",
      "1 0\n",
      "1.01363803907\n",
      "\n",
      "-------------------------------------------\n",
      "Time: 2017-09-29 21:41:39\n",
      "-------------------------------------------\n",
      "0 0\n",
      "1.14869176771\n",
      "1 0\n",
      "1.07536680944\n",
      "\n",
      "-------------------------------------------\n",
      "Time: 2017-09-29 21:41:45\n",
      "-------------------------------------------\n",
      "0 0\n",
      "1.1175764293\n",
      "1 0\n",
      "1.01363803907\n",
      "\n",
      "-------------------------------------------\n",
      "Time: 2017-09-29 21:41:51\n",
      "-------------------------------------------\n",
      "0 0\n",
      "1.11257778616\n",
      "1 0\n",
      "1.0639299501\n",
      "\n",
      "-------------------------------------------\n",
      "Time: 2017-09-29 21:41:57\n",
      "-------------------------------------------\n",
      "0 0\n",
      "1.04456157163\n",
      "1 0\n",
      "1.19731800766\n",
      "\n",
      "-------------------------------------------\n",
      "Time: 2017-09-29 21:42:03\n",
      "-------------------------------------------\n",
      "0 0\n",
      "1.10554663139\n",
      "1 0\n",
      "1.06613831494\n",
      "\n",
      "-------------------------------------------\n",
      "Time: 2017-09-29 21:42:09\n",
      "-------------------------------------------\n",
      "0 0\n",
      "1.05464133103\n",
      "1 0\n",
      "1.06781053208\n",
      "\n",
      "-------------------------------------------\n",
      "Time: 2017-09-29 21:42:15\n",
      "-------------------------------------------\n",
      "0 0\n",
      "0.92876465284\n",
      "1 0\n",
      "1.21124468951\n",
      "\n",
      "-------------------------------------------\n",
      "Time: 2017-09-29 21:42:21\n",
      "-------------------------------------------\n",
      "0 0\n",
      "0.873443597844\n",
      "1 0\n",
      "1.08323303398\n",
      "\n",
      "-------------------------------------------\n",
      "Time: 2017-09-29 21:42:27\n",
      "-------------------------------------------\n",
      "0 0\n",
      "0.893875998479\n",
      "1 0\n",
      "1.03425372426\n",
      "\n",
      "-------------------------------------------\n",
      "Time: 2017-09-29 21:42:33\n",
      "-------------------------------------------\n",
      "0 0\n",
      "1.12018226695\n",
      "1 0\n",
      "0.996110425956\n",
      "\n",
      "-------------------------------------------\n",
      "Time: 2017-09-29 21:42:39\n",
      "-------------------------------------------\n",
      "0 0\n",
      "1.10945366399\n",
      "1 0\n",
      "0.946635730858\n",
      "\n"
     ]
    }
   ],
   "source": [
    "ssc.start()  \n",
    "ssc.awaitTermination()"
   ]
  },
  {
   "cell_type": "code",
   "execution_count": null,
   "metadata": {
    "collapsed": true
   },
   "outputs": [],
   "source": [
    "ssc.stop()\n",
    "sc.stop()"
   ]
  },
  {
   "cell_type": "code",
   "execution_count": null,
   "metadata": {
    "collapsed": true
   },
   "outputs": [],
   "source": []
  },
  {
   "cell_type": "code",
   "execution_count": null,
   "metadata": {
    "collapsed": true
   },
   "outputs": [],
   "source": []
  }
 ],
 "metadata": {
  "kernelspec": {
   "display_name": "Python 2",
   "language": "python",
   "name": "python2"
  },
  "language_info": {
   "codemirror_mode": {
    "name": "ipython",
    "version": 2
   },
   "file_extension": ".py",
   "mimetype": "text/x-python",
   "name": "python",
   "nbconvert_exporter": "python",
   "pygments_lexer": "ipython2",
   "version": "2.7.6"
  }
 },
 "nbformat": 4,
 "nbformat_minor": 0
}
