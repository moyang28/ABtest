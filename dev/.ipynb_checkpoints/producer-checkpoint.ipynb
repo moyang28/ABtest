{
 "cells": [
  {
   "cell_type": "code",
   "execution_count": 1,
   "metadata": {
    "collapsed": false
   },
   "outputs": [
    {
     "name": "stderr",
     "output_type": "stream",
     "text": [
      "Exception in thread Thread-4:\n",
      "Traceback (most recent call last):\n",
      "  File \"/usr/lib/python2.7/threading.py\", line 810, in __bootstrap_inner\n",
      "    self.run()\n",
      "  File \"<ipython-input-1-e0216f96d13d>\", line 17, in run\n",
      "    for line in  csv.reader(smart_open.smart_open(\"s3://moyang28/Location.tsv\"), delimiter=\"\\t\"):\n",
      "NameError: global name 'csv' is not defined\n",
      "\n"
     ]
    }
   ],
   "source": [
    "import botocore\n",
    "import boto3\n",
    "import threading, logging, time\n",
    "from kafka import KafkaProducer\n",
    "import smart_open\n",
    "import csv\n",
    "\n",
    "class Producer(threading.Thread):\n",
    "    daemon = True\n",
    "\n",
    "    def run(self):\n",
    "        producer = KafkaProducer(bootstrap_servers='ec2-52-9-120-149.us-west-1.compute.amazonaws.com:9092')\n",
    "\n",
    "        bucket_name = 'moyang28'\n",
    "        bucket = self.__get_s3_bucket__(bucket_name)\n",
    "        # Send data from S3 to Kafka queue\n",
    "        for i in range(1,2):\n",
    "            for line in  csv.reader(smart_open.smart_open(\"s3://moyang28/Location.tsv\"), delimiter=\"\\t\"):\n",
    "                # print(line)\n",
    "                producer.send('mo-topic', line)\n",
    "        print(\"done\")\n",
    "                \n",
    "    # Access S3 bucket\n",
    "    def __get_s3_bucket__(self, bucket_name):\n",
    "        s3 = boto3.resource('s3')\n",
    "        try:\n",
    "            s3.meta.client.head_bucket(Bucket=bucket_name)\n",
    "        except botocore.exceptions.ClientError as e:\n",
    "            # If a client error is thrown, check that it was a 404 error.\n",
    "            # If it was a 404 error, then the bucket does not exist.\n",
    "            error_code = int(e.response['Error']['Code'])\n",
    "            if error_code == 404:\n",
    "                exists = False\n",
    "                print (e.response['404 Error: bucket not found'])\n",
    "            else:\n",
    "                print (e.response['Error'])\n",
    "            return None\n",
    "        else:\n",
    "            return s3.Bucket(bucket_name)\n",
    "\n",
    "\n",
    "if __name__ == \"__main__\":\n",
    "#     producer = Producer()\n",
    "#     producer.run()\n",
    "#     producer.start()\n",
    "    # while True:\n",
    "        # time.sleep(10)\n",
    "    Producer().start()\n"
   ]
  },
  {
   "cell_type": "code",
   "execution_count": null,
   "metadata": {
    "collapsed": true
   },
   "outputs": [],
   "source": []
  }
 ],
 "metadata": {
  "kernelspec": {
   "display_name": "Python 2",
   "language": "python",
   "name": "python2"
  },
  "language_info": {
   "codemirror_mode": {
    "name": "ipython",
    "version": 2
   },
   "file_extension": ".py",
   "mimetype": "text/x-python",
   "name": "python",
   "nbconvert_exporter": "python",
   "pygments_lexer": "ipython2",
   "version": "2.7.6"
  }
 },
 "nbformat": 4,
 "nbformat_minor": 0
}
