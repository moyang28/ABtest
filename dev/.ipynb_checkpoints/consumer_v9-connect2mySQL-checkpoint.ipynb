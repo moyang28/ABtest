{
 "cells": [
  {
   "cell_type": "code",
   "execution_count": 1,
   "metadata": {
    "collapsed": false
   },
   "outputs": [],
   "source": [
    "import os  \n",
    "os.environ['PYSPARK_SUBMIT_ARGS'] = '--packages org.apache.spark:spark-streaming-kafka-0-8_2.11:2.0.2 pyspark-shell'  \n",
    "from pyspark import SparkContext  \n",
    "from pyspark.streaming import StreamingContext  \n",
    "from pyspark.streaming.kafka import KafkaUtils  \n",
    "from datetime import datetime\n",
    "\n",
    "batch_interval = 1\n",
    "window_length = 12 * batch_interval\n",
    "frequency = 6 * batch_interval\n",
    "\n",
    "sc = SparkContext(appName=\"CTR\")\n",
    "sc.setLogLevel(\"WARN\")\n",
    "ssc = StreamingContext(sc, batch_interval)\n",
    "\n",
    "directKafkaStream = KafkaUtils.createDirectStream(ssc, ['topic_click'], {\"metadata.broker.list\": 'localhost:9092'})"
   ]
  },
  {
   "cell_type": "code",
   "execution_count": 2,
   "metadata": {
    "collapsed": true
   },
   "outputs": [],
   "source": [
    "lines = directKafkaStream.map(lambda x: x[1])"
   ]
  },
  {
   "cell_type": "code",
   "execution_count": 3,
   "metadata": {
    "collapsed": false
   },
   "outputs": [],
   "source": [
    "import re\n",
    "def mk_int(s):\n",
    "    s = s.strip()\n",
    "    return int(s) if s else 0\n",
    "def tuple_sum(a, b):\n",
    "    return [a[0]+b[0], a[1]+b[1]]"
   ]
  },
  {
   "cell_type": "code",
   "execution_count": 5,
   "metadata": {
    "collapsed": false
   },
   "outputs": [],
   "source": [
    "import mysql.connector"
   ]
  },
  {
   "cell_type": "code",
   "execution_count": 6,
   "metadata": {
    "collapsed": true
   },
   "outputs": [],
   "source": [
    "import MySQLdb\n",
    "conn = MySQLdb.connect(host= \"localhost\",\n",
    "                  user=\"root\",\n",
    "                  passwd=\"I984!i28\",\n",
    "                  db=\"modatabase\")"
   ]
  },
  {
   "cell_type": "code",
   "execution_count": 7,
   "metadata": {
    "collapsed": false
   },
   "outputs": [],
   "source": [
    "import MySQLdb\n",
    "conn = MySQLdb.connect(host= \"host\",\n",
    "                  user=\"uid\",\n",
    "                  passwd=\"pwd\",\n",
    "                  db=\"db\")"
   ]
  },
  {
   "cell_type": "code",
   "execution_count": 8,
   "metadata": {
    "collapsed": true
   },
   "outputs": [],
   "source": [
    "x = conn.cursor()\n",
    "try:\n",
    "   x.execute(\"\"\"INSERT INTO pet VALUES (%s,%s)\"\"\",(\"kelly\",\"mo\"))\n",
    "   conn.commit()\n",
    "except:\n",
    "   conn.rollback()\n"
   ]
  },
  {
   "cell_type": "code",
   "execution_count": 9,
   "metadata": {
    "collapsed": true
   },
   "outputs": [],
   "source": [
    "conn.close()"
   ]
  },
  {
   "cell_type": "code",
   "execution_count": 10,
   "metadata": {
    "collapsed": true
   },
   "outputs": [],
   "source": [
    "def insert_into_mysql(clicks, total):\n",
    "    import MySQLdb\n",
    "    conn = MySQLdb.connect(host= \"host\",\n",
    "                      user=\"uid\",\n",
    "                      passwd=\"pwd\",\n",
    "                      db=\"db\")\n",
    "    x = conn.cursor()\n",
    "    try:\n",
    "#         x.execute(\"\"\"INSERT INTO test_ctr VALUES (%s,%s)\"\"\",(\"my_ctr\", 100.0 * clicks / total))\n",
    "        x.execute(\"\"\"INSERT INTO test_ctr VALUES (%s,%s)\"\"\",(datetime.now(), 100.0 * clicks / total))\n",
    "        conn.commit()\n",
    "        return (\"success ctr = \", 100.0 * clicks / total)\n",
    "    except Exception, e:\n",
    "        conn.rollback()\n",
    "        return (str(e), 100.0 * clicks / total)\n",
    "    conn.close()\n",
    "    # return (\"ctr = \", 100.0 * clicks / total)"
   ]
  },
  {
   "cell_type": "code",
   "execution_count": 11,
   "metadata": {
    "collapsed": false
   },
   "outputs": [],
   "source": [
    "ctr = lines.flatMap(lambda line: [line.split(\"\\t\")[-1]]) \\\n",
    "    .map(lambda click: (\"ctr\", [mk_int(click), 1])) \\\n",
    "    .reduceByKeyAndWindow(lambda a, b: tuple_sum(a, b), None, 12, 6) \\\n",
    "    .flatMap(lambda row: insert_into_mysql(row[1][0], row[1][1]) )\n",
    "ctr.pprint()"
   ]
  },
  {
   "cell_type": "code",
   "execution_count": null,
   "metadata": {
    "collapsed": false
   },
   "outputs": [
    {
     "name": "stdout",
     "output_type": "stream",
     "text": [
      "-------------------------------------------\n",
      "Time: 2017-09-22 21:12:33\n",
      "-------------------------------------------\n",
      "success ctr = \n",
      "0.315962796493\n",
      "\n",
      "-------------------------------------------\n",
      "Time: 2017-09-22 21:12:39\n",
      "-------------------------------------------\n",
      "success ctr = \n",
      "0.282996521761\n",
      "\n",
      "-------------------------------------------\n",
      "Time: 2017-09-22 21:12:45\n",
      "-------------------------------------------\n",
      "success ctr = \n",
      "0.255959998809\n",
      "\n",
      "-------------------------------------------\n",
      "Time: 2017-09-22 21:12:51\n",
      "-------------------------------------------\n",
      "success ctr = \n",
      "0.300747488904\n",
      "\n",
      "-------------------------------------------\n",
      "Time: 2017-09-22 21:12:57\n",
      "-------------------------------------------\n",
      "success ctr = \n",
      "0.31880393558\n",
      "\n",
      "-------------------------------------------\n",
      "Time: 2017-09-22 21:13:03\n",
      "-------------------------------------------\n",
      "success ctr = \n",
      "0.324142568931\n",
      "\n",
      "-------------------------------------------\n",
      "Time: 2017-09-22 21:13:09\n",
      "-------------------------------------------\n",
      "success ctr = \n",
      "0.322281807388\n",
      "\n",
      "-------------------------------------------\n",
      "Time: 2017-09-22 21:13:15\n",
      "-------------------------------------------\n",
      "success ctr = \n",
      "0.290709357626\n",
      "\n",
      "-------------------------------------------\n",
      "Time: 2017-09-22 21:13:21\n",
      "-------------------------------------------\n",
      "success ctr = \n",
      "0.29020782625\n",
      "\n",
      "-------------------------------------------\n",
      "Time: 2017-09-22 21:13:27\n",
      "-------------------------------------------\n",
      "success ctr = \n",
      "0.311962987442\n",
      "\n",
      "-------------------------------------------\n",
      "Time: 2017-09-22 21:13:33\n",
      "-------------------------------------------\n",
      "success ctr = \n",
      "0.296026113732\n",
      "\n",
      "-------------------------------------------\n",
      "Time: 2017-09-22 21:13:39\n",
      "-------------------------------------------\n",
      "success ctr = \n",
      "0.269146072914\n",
      "\n"
     ]
    }
   ],
   "source": [
    "ssc.start()  \n",
    "ssc.awaitTermination()"
   ]
  },
  {
   "cell_type": "code",
   "execution_count": null,
   "metadata": {
    "collapsed": true
   },
   "outputs": [],
   "source": [
    "ssc.stop()\n",
    "sc.stop()"
   ]
  }
 ],
 "metadata": {
  "kernelspec": {
   "display_name": "Python 2",
   "language": "python",
   "name": "python2"
  },
  "language_info": {
   "codemirror_mode": {
    "name": "ipython",
    "version": 2
   },
   "file_extension": ".py",
   "mimetype": "text/x-python",
   "name": "python",
   "nbconvert_exporter": "python",
   "pygments_lexer": "ipython2",
   "version": "2.7.6"
  }
 },
 "nbformat": 4,
 "nbformat_minor": 0
}
