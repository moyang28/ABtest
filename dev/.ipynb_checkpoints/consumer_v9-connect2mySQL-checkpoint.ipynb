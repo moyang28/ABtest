{
 "cells": [
  {
   "cell_type": "code",
   "execution_count": 1,
   "metadata": {
    "collapsed": false
   },
   "outputs": [],
   "source": [
    "import os  \n",
    "os.environ['PYSPARK_SUBMIT_ARGS'] = '--packages org.apache.spark:spark-streaming-kafka-0-8_2.11:2.0.2 pyspark-shell'  \n",
    "from pyspark import SparkContext  \n",
    "from pyspark.streaming import StreamingContext  \n",
    "from pyspark.streaming.kafka import KafkaUtils  \n",
    "from datetime import datetime\n",
    "\n",
    "batch_interval = 1\n",
    "window_length = 12 * batch_interval\n",
    "frequency = 6 * batch_interval\n",
    "\n",
    "sc = SparkContext(appName=\"CTR\")\n",
    "sc.setLogLevel(\"WARN\")\n",
    "ssc = StreamingContext(sc, batch_interval)\n",
    "\n",
    "directKafkaStream = KafkaUtils.createDirectStream(ssc, ['topic_click'], {\"metadata.broker.list\": 'ec2-52-9-120-149.us-west-1.compute.amazonaws.com:9092'})"
   ]
  },
  {
   "cell_type": "code",
   "execution_count": 2,
   "metadata": {
    "collapsed": true
   },
   "outputs": [],
   "source": [
    "lines = directKafkaStream.map(lambda x: x[1])"
   ]
  },
  {
   "cell_type": "code",
   "execution_count": 3,
   "metadata": {
    "collapsed": false
   },
   "outputs": [],
   "source": [
    "import re\n",
    "def mk_int(s):\n",
    "    s = s.strip()\n",
    "    return int(s) if s else 0\n",
    "def tuple_sum(a, b):\n",
    "    return [a[0]+b[0], a[1]+b[1]]"
   ]
  },
  {
   "cell_type": "code",
   "execution_count": 4,
   "metadata": {
    "collapsed": false
   },
   "outputs": [],
   "source": [
    "# ctr = lines.flatMap(lambda line: [line.split(\"\\t\")[-1]]) \\\n",
    "#     .map(lambda click: (\"ctr\", [mk_int(click), 1])) \\\n",
    "#     .reduceByKeyAndWindow(lambda a, b: tuple_sum(a, b), None, 12, 6) \\\n",
    "#     .flatMap(lambda row: (\"ctr = \", 100.0 * row[1][0] / row[1][1]))\n",
    "# ctr.pprint()"
   ]
  },
  {
   "cell_type": "code",
   "execution_count": 5,
   "metadata": {
    "collapsed": false
   },
   "outputs": [],
   "source": [
    "import mysql.connector"
   ]
  },
  {
   "cell_type": "code",
   "execution_count": 6,
   "metadata": {
    "collapsed": true
   },
   "outputs": [],
   "source": [
    "import MySQLdb\n",
    "conn = MySQLdb.connect(host= \"localhost\",\n",
    "                  user=\"root\",\n",
    "                  passwd=\"I984!i28\",\n",
    "                  db=\"modatabase\")"
   ]
  },
  {
   "cell_type": "code",
   "execution_count": 7,
   "metadata": {
    "collapsed": false
   },
   "outputs": [],
   "source": [
    "# import MySQLdb\n",
    "# conn = MySQLdb.connect(host= \"52.9.120.149\",\n",
    "#                   user=\"root\",\n",
    "#                   passwd=\"I984!i28\",\n",
    "#                   db=\"modatabase\")\n",
    "import MySQLdb\n",
    "conn = MySQLdb.connect(host= \"52.9.120.149\",\n",
    "                  user=\"name\",\n",
    "                  passwd=\"password\",\n",
    "                  db=\"modatabase\")"
   ]
  },
  {
   "cell_type": "code",
   "execution_count": 8,
   "metadata": {
    "collapsed": true
   },
   "outputs": [],
   "source": [
    "x = conn.cursor()\n",
    "try:\n",
    "   x.execute(\"\"\"INSERT INTO pet VALUES (%s,%s)\"\"\",(\"kelly\",\"mo\"))\n",
    "   conn.commit()\n",
    "except:\n",
    "   conn.rollback()\n"
   ]
  },
  {
   "cell_type": "code",
   "execution_count": 9,
   "metadata": {
    "collapsed": true
   },
   "outputs": [],
   "source": [
    "conn.close()"
   ]
  },
  {
   "cell_type": "code",
   "execution_count": 10,
   "metadata": {
    "collapsed": true
   },
   "outputs": [],
   "source": [
    "def insert_into_mysql(clicks, total):\n",
    "    import MySQLdb\n",
    "    conn = MySQLdb.connect(host= \"52.9.120.149\",\n",
    "                      user=\"name\",\n",
    "                      passwd=\"password\",\n",
    "                      db=\"modatabase\")\n",
    "    x = conn.cursor()\n",
    "    try:\n",
    "#         x.execute(\"\"\"INSERT INTO test_ctr VALUES (%s,%s)\"\"\",(\"my_ctr\", 100.0 * clicks / total))\n",
    "        x.execute(\"\"\"INSERT INTO test_ctr VALUES (%s,%s)\"\"\",(datetime.now(), 100.0 * clicks / total))\n",
    "        conn.commit()\n",
    "        return (\"success ctr = \", 100.0 * clicks / total)\n",
    "    except Exception, e:\n",
    "        conn.rollback()\n",
    "        return (str(e), 100.0 * clicks / total)\n",
    "    conn.close()\n",
    "    # return (\"ctr = \", 100.0 * clicks / total)"
   ]
  },
  {
   "cell_type": "code",
   "execution_count": 11,
   "metadata": {
    "collapsed": false
   },
   "outputs": [
    {
     "ename": "ValueError",
     "evalue": "windowDuration must be multiple of the slide duration (5000 ms)",
     "output_type": "error",
     "traceback": [
      "\u001b[1;31m---------------------------------------------------------------------------\u001b[0m",
      "\u001b[1;31mValueError\u001b[0m                                Traceback (most recent call last)",
      "\u001b[1;32m<ipython-input-11-44c023435f0c>\u001b[0m in \u001b[0;36m<module>\u001b[1;34m()\u001b[0m\n\u001b[1;32m----> 1\u001b[1;33m \u001b[0mctr\u001b[0m \u001b[1;33m=\u001b[0m \u001b[0mlines\u001b[0m\u001b[1;33m.\u001b[0m\u001b[0mflatMap\u001b[0m\u001b[1;33m(\u001b[0m\u001b[1;32mlambda\u001b[0m \u001b[0mline\u001b[0m\u001b[1;33m:\u001b[0m \u001b[1;33m[\u001b[0m\u001b[0mline\u001b[0m\u001b[1;33m.\u001b[0m\u001b[0msplit\u001b[0m\u001b[1;33m(\u001b[0m\u001b[1;34m\"\\t\"\u001b[0m\u001b[1;33m)\u001b[0m\u001b[1;33m[\u001b[0m\u001b[1;33m-\u001b[0m\u001b[1;36m1\u001b[0m\u001b[1;33m]\u001b[0m\u001b[1;33m]\u001b[0m\u001b[1;33m)\u001b[0m     \u001b[1;33m.\u001b[0m\u001b[0mmap\u001b[0m\u001b[1;33m(\u001b[0m\u001b[1;32mlambda\u001b[0m \u001b[0mclick\u001b[0m\u001b[1;33m:\u001b[0m \u001b[1;33m(\u001b[0m\u001b[1;34m\"ctr\"\u001b[0m\u001b[1;33m,\u001b[0m \u001b[1;33m[\u001b[0m\u001b[0mmk_int\u001b[0m\u001b[1;33m(\u001b[0m\u001b[0mclick\u001b[0m\u001b[1;33m)\u001b[0m\u001b[1;33m,\u001b[0m \u001b[1;36m1\u001b[0m\u001b[1;33m]\u001b[0m\u001b[1;33m)\u001b[0m\u001b[1;33m)\u001b[0m     \u001b[1;33m.\u001b[0m\u001b[0mreduceByKeyAndWindow\u001b[0m\u001b[1;33m(\u001b[0m\u001b[1;32mlambda\u001b[0m \u001b[0ma\u001b[0m\u001b[1;33m,\u001b[0m \u001b[0mb\u001b[0m\u001b[1;33m:\u001b[0m \u001b[0mtuple_sum\u001b[0m\u001b[1;33m(\u001b[0m\u001b[0ma\u001b[0m\u001b[1;33m,\u001b[0m \u001b[0mb\u001b[0m\u001b[1;33m)\u001b[0m\u001b[1;33m,\u001b[0m \u001b[0mNone\u001b[0m\u001b[1;33m,\u001b[0m \u001b[1;36m12\u001b[0m\u001b[1;33m,\u001b[0m \u001b[1;36m6\u001b[0m\u001b[1;33m)\u001b[0m     \u001b[1;33m.\u001b[0m\u001b[0mflatMap\u001b[0m\u001b[1;33m(\u001b[0m\u001b[1;32mlambda\u001b[0m \u001b[0mrow\u001b[0m\u001b[1;33m:\u001b[0m \u001b[0minsert_into_mysql\u001b[0m\u001b[1;33m(\u001b[0m\u001b[0mrow\u001b[0m\u001b[1;33m[\u001b[0m\u001b[1;36m1\u001b[0m\u001b[1;33m]\u001b[0m\u001b[1;33m[\u001b[0m\u001b[1;36m0\u001b[0m\u001b[1;33m]\u001b[0m\u001b[1;33m,\u001b[0m \u001b[0mrow\u001b[0m\u001b[1;33m[\u001b[0m\u001b[1;36m1\u001b[0m\u001b[1;33m]\u001b[0m\u001b[1;33m[\u001b[0m\u001b[1;36m1\u001b[0m\u001b[1;33m]\u001b[0m\u001b[1;33m)\u001b[0m \u001b[1;33m)\u001b[0m\u001b[1;33m\u001b[0m\u001b[0m\n\u001b[0m\u001b[0;32m      2\u001b[0m \u001b[0mctr\u001b[0m\u001b[1;33m.\u001b[0m\u001b[0mpprint\u001b[0m\u001b[1;33m(\u001b[0m\u001b[1;33m)\u001b[0m\u001b[1;33m\u001b[0m\u001b[0m\n",
      "\u001b[1;32m/usr/local/spark/python/pyspark/streaming/dstream.pyc\u001b[0m in \u001b[0;36mreduceByKeyAndWindow\u001b[1;34m(self, func, invFunc, windowDuration, slideDuration, numPartitions, filterFunc)\u001b[0m\n\u001b[0;32m    539\u001b[0m                               \u001b[0mset\u001b[0m \u001b[0mthis\u001b[0m \u001b[0mto\u001b[0m \u001b[0mnull\u001b[0m \u001b[1;32mif\u001b[0m \u001b[0myou\u001b[0m \u001b[0mdo\u001b[0m \u001b[1;32mnot\u001b[0m \u001b[0mwant\u001b[0m \u001b[0mto\u001b[0m \u001b[0mfilter\u001b[0m\u001b[1;33m\u001b[0m\u001b[0m\n\u001b[0;32m    540\u001b[0m         \"\"\"\n\u001b[1;32m--> 541\u001b[1;33m         \u001b[0mself\u001b[0m\u001b[1;33m.\u001b[0m\u001b[0m_validate_window_param\u001b[0m\u001b[1;33m(\u001b[0m\u001b[0mwindowDuration\u001b[0m\u001b[1;33m,\u001b[0m \u001b[0mslideDuration\u001b[0m\u001b[1;33m)\u001b[0m\u001b[1;33m\u001b[0m\u001b[0m\n\u001b[0m\u001b[0;32m    542\u001b[0m         \u001b[1;32mif\u001b[0m \u001b[0mnumPartitions\u001b[0m \u001b[1;32mis\u001b[0m \u001b[0mNone\u001b[0m\u001b[1;33m:\u001b[0m\u001b[1;33m\u001b[0m\u001b[0m\n\u001b[0;32m    543\u001b[0m             \u001b[0mnumPartitions\u001b[0m \u001b[1;33m=\u001b[0m \u001b[0mself\u001b[0m\u001b[1;33m.\u001b[0m\u001b[0m_sc\u001b[0m\u001b[1;33m.\u001b[0m\u001b[0mdefaultParallelism\u001b[0m\u001b[1;33m\u001b[0m\u001b[0m\n",
      "\u001b[1;32m/usr/local/spark/python/pyspark/streaming/dstream.pyc\u001b[0m in \u001b[0;36m_validate_window_param\u001b[1;34m(self, window, slide)\u001b[0m\n\u001b[0;32m    418\u001b[0m         \u001b[1;32mif\u001b[0m \u001b[0mint\u001b[0m\u001b[1;33m(\u001b[0m\u001b[0mwindow\u001b[0m \u001b[1;33m*\u001b[0m \u001b[1;36m1000\u001b[0m\u001b[1;33m)\u001b[0m \u001b[1;33m%\u001b[0m \u001b[0mduration\u001b[0m \u001b[1;33m!=\u001b[0m \u001b[1;36m0\u001b[0m\u001b[1;33m:\u001b[0m\u001b[1;33m\u001b[0m\u001b[0m\n\u001b[0;32m    419\u001b[0m             raise ValueError(\"windowDuration must be multiple of the slide duration (%d ms)\"\n\u001b[1;32m--> 420\u001b[1;33m                              % duration)\n\u001b[0m\u001b[0;32m    421\u001b[0m         \u001b[1;32mif\u001b[0m \u001b[0mslide\u001b[0m \u001b[1;32mand\u001b[0m \u001b[0mint\u001b[0m\u001b[1;33m(\u001b[0m\u001b[0mslide\u001b[0m \u001b[1;33m*\u001b[0m \u001b[1;36m1000\u001b[0m\u001b[1;33m)\u001b[0m \u001b[1;33m%\u001b[0m \u001b[0mduration\u001b[0m \u001b[1;33m!=\u001b[0m \u001b[1;36m0\u001b[0m\u001b[1;33m:\u001b[0m\u001b[1;33m\u001b[0m\u001b[0m\n\u001b[0;32m    422\u001b[0m             raise ValueError(\"slideDuration must be multiple of the slide duration (%d ms)\"\n",
      "\u001b[1;31mValueError\u001b[0m: windowDuration must be multiple of the slide duration (5000 ms)"
     ]
    }
   ],
   "source": [
    "ctr = lines.flatMap(lambda line: [line.split(\"\\t\")[-1]]) \\\n",
    "    .map(lambda click: (\"ctr\", [mk_int(click), 1])) \\\n",
    "    .reduceByKeyAndWindow(lambda a, b: tuple_sum(a, b), None, 12, 6) \\\n",
    "    .flatMap(lambda row: insert_into_mysql(row[1][0], row[1][1]) )\n",
    "ctr.pprint()"
   ]
  },
  {
   "cell_type": "code",
   "execution_count": null,
   "metadata": {
    "collapsed": true
   },
   "outputs": [],
   "source": [
    "# For Cassandra\n",
    "# def sendPartition(iter):\n",
    "#     cluster = Cluster([<cluster public DNS>])\n",
    "#     session = cluster.connect('playground')\n",
    "\n",
    "#     temp = 0\n",
    "#     for record in iter:\n",
    "#         print(temp, record[0], record[1], record[2], record[3])\n",
    "#         temp += 1\n",
    "\n",
    "#         session.execute(\"INSERT INTO test (col1, col2, col3, col4) VALUES (%s, %s, %s, %s);\", (record[0], record[1], record[2], record[3]) )\n",
    "\n",
    "\n",
    "#     session.shutdown()\n",
    "\n",
    "\n",
    "# rdd3.foreachRDD(lambda rdd: rdd.foreachPartition(sendPartition))"
   ]
  },
  {
   "cell_type": "code",
   "execution_count": null,
   "metadata": {
    "collapsed": false
   },
   "outputs": [],
   "source": [
    "ssc.start()  \n",
    "ssc.awaitTermination()"
   ]
  },
  {
   "cell_type": "code",
   "execution_count": null,
   "metadata": {
    "collapsed": true
   },
   "outputs": [],
   "source": [
    "ssc.stop()\n",
    "sc.stop()"
   ]
  },
  {
   "cell_type": "code",
   "execution_count": null,
   "metadata": {
    "collapsed": true
   },
   "outputs": [],
   "source": []
  }
 ],
 "metadata": {
  "kernelspec": {
   "display_name": "Python 2",
   "language": "python",
   "name": "python2"
  },
  "language_info": {
   "codemirror_mode": {
    "name": "ipython",
    "version": 2
   },
   "file_extension": ".py",
   "mimetype": "text/x-python",
   "name": "python",
   "nbconvert_exporter": "python",
   "pygments_lexer": "ipython2",
   "version": "2.7.6"
  }
 },
 "nbformat": 4,
 "nbformat_minor": 0
}
