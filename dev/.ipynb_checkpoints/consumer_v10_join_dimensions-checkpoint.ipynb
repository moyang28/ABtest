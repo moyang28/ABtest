{
 "cells": [
  {
   "cell_type": "code",
   "execution_count": 1,
   "metadata": {
    "collapsed": false
   },
   "outputs": [],
   "source": [
    "import os  \n",
    "os.environ['PYSPARK_SUBMIT_ARGS'] = '--packages org.apache.spark:spark-streaming-kafka-0-8_2.11:2.0.2 pyspark-shell'  \n",
    "from pyspark import SparkContext\n",
    "from pyspark.streaming import StreamingContext  \n",
    "from pyspark.streaming.kafka import KafkaUtils  \n",
    "from datetime import datetime\n",
    "\n",
    "batch_interval = 1\n",
    "window_length = 12 * batch_interval\n",
    "frequency = 6 * batch_interval\n",
    "\n",
    "sc = SparkContext(appName=\"CTR\")\n",
    "sc.setLogLevel(\"WARN\")\n",
    "ssc = StreamingContext(sc, batch_interval)\n",
    "\n",
    "directKafkaStream = KafkaUtils.createDirectStream(ssc, ['topic_click'], {\"metadata.broker.list\": 'ec2-52-9-120-149.us-west-1.compute.amazonaws.com:9092'})"
   ]
  },
  {
   "cell_type": "code",
   "execution_count": 2,
   "metadata": {
    "collapsed": true
   },
   "outputs": [],
   "source": [
    "lines = directKafkaStream.map(lambda x: x[1])"
   ]
  },
  {
   "cell_type": "code",
   "execution_count": 3,
   "metadata": {
    "collapsed": false
   },
   "outputs": [],
   "source": [
    "import re\n",
    "def mk_int(s):\n",
    "    s = s.strip()\n",
    "    return int(s) if s else 0\n",
    "def tuple_sum(a, b):\n",
    "    return [a[0]+b[0], a[1]+b[1]]\n",
    "def tuple_minus(a, b):\n",
    "    return [a[0]-b[0], a[1]-b[1]]"
   ]
  },
  {
   "cell_type": "code",
   "execution_count": 4,
   "metadata": {
    "collapsed": true
   },
   "outputs": [],
   "source": [
    "def insert_into_mysql(group_id, clicks, total):\n",
    "    import MySQLdb\n",
    "    conn = MySQLdb.connect(host= \"52.9.120.149\",\n",
    "                      user=\"name\",\n",
    "                      passwd=\"password\",\n",
    "                      db=\"modatabase\")\n",
    "    \n",
    "    try:\n",
    "        x = conn.cursor()\n",
    "        x.execute(\"select yn from abonoff;\")\n",
    "        abonoff = 0\n",
    "        for row in x:\n",
    "            abonoff = int(row[0])\n",
    "        if abonoff == 1:\n",
    "            if group_id == 1:\n",
    "                x.execute(\"\"\"INSERT INTO ctr_4 VALUES (%s,%s,%s,%s,%s,%s,%s)\"\"\",(datetime.now(), \"test\", clicks, total, \" \", \" \", datetime.now()))\n",
    "            else:\n",
    "                x.execute(\"\"\"INSERT INTO ctr_4 VALUES (%s,%s,%s,%s,%s,%s,%s)\"\"\",(datetime.now(), \"control\", clicks, total, \" \", \" \", datetime.now()))\n",
    "        else:\n",
    "            x.execute(\"\"\"INSERT INTO ctr_4 VALUES (%s,%s,%s,%s,%s,%s,%s)\"\"\",(datetime.now(), \"control\", clicks, total, \" \", \" \", datetime.now()))\n",
    "        conn.commit()\n",
    "        return (str(group_id) + \" \" + str(abonoff), 100.0 * clicks / total)\n",
    "    except Exception, e:\n",
    "        conn.rollback()\n",
    "        return (str(e), 100.0 * clicks / total)\n",
    "    conn.close()\n",
    "    # return (\"ctr = \", 100.0 * clicks / total)"
   ]
  },
  {
   "cell_type": "code",
   "execution_count": 5,
   "metadata": {
    "collapsed": false
   },
   "outputs": [],
   "source": [
    "# ctr = lines.flatMap(lambda line: [line.split(\"\\t\")[-1]]) \\\n",
    "#     .map(lambda click: (\"ctr\", [mk_int(click), 1])) \\\n",
    "#     .reduceByKeyAndWindow(lambda a, b: tuple_sum(a, b), None, 12, 6) \\\n",
    "#     .flatMap(lambda row: insert_into_mysql(row[1][0], row[1][1]) )\n",
    "# ctr.pprint()"
   ]
  },
  {
   "cell_type": "code",
   "execution_count": 6,
   "metadata": {
    "collapsed": false
   },
   "outputs": [],
   "source": [
    "user_info = sc.textFile(\"s3n://moyang28/UserInfo.tsv\")"
   ]
  },
  {
   "cell_type": "code",
   "execution_count": 7,
   "metadata": {
    "collapsed": false
   },
   "outputs": [],
   "source": [
    "# user_info.count()"
   ]
  },
  {
   "cell_type": "code",
   "execution_count": 8,
   "metadata": {
    "collapsed": false,
    "scrolled": true
   },
   "outputs": [
    {
     "data": {
      "text/plain": [
       "pyspark.rdd.PipelinedRDD"
      ]
     },
     "execution_count": 8,
     "metadata": {},
     "output_type": "execute_result"
    }
   ],
   "source": [
    "# user_info = user_info.flatMap(lambda line: line.split(\"\\t\")[:])\n",
    "user_info = user_info.map(lambda line: line.split(\"\\t\")[:])\n",
    "type(user_info)\n",
    "# user_info.pprint(10)"
   ]
  },
  {
   "cell_type": "code",
   "execution_count": 9,
   "metadata": {
    "collapsed": false
   },
   "outputs": [],
   "source": [
    "# user_info.take(10)"
   ]
  },
  {
   "cell_type": "code",
   "execution_count": 10,
   "metadata": {
    "collapsed": true
   },
   "outputs": [],
   "source": [
    "# user_info = user_info.map(lambda click: (\"ctr\", [mk_int(click), 1])) \\\n",
    "#     .reduceByKeyAndWindow(lambda a, b: tuple_sum(a, b), None, 12, 6) \\\n",
    "#     .flatMap(lambda row: insert_into_mysql(row[1][0], row[1][1]) )"
   ]
  },
  {
   "cell_type": "code",
   "execution_count": 11,
   "metadata": {
    "collapsed": false
   },
   "outputs": [],
   "source": [
    "# lines = directKafkaStream.map(lambda x: x[0])\n",
    "# lines.pprint()"
   ]
  },
  {
   "cell_type": "code",
   "execution_count": 12,
   "metadata": {
    "collapsed": true
   },
   "outputs": [],
   "source": [
    "ctr = lines.map(lambda line: line.split(\"\\t\")) \n",
    "# ctr.pprint()"
   ]
  },
  {
   "cell_type": "code",
   "execution_count": 13,
   "metadata": {
    "collapsed": true
   },
   "outputs": [],
   "source": [
    "ctr = ctr.map(lambda click: (click[0], mk_int(click[-1]))) \n",
    "# ctr.pprint()  "
   ]
  },
  {
   "cell_type": "code",
   "execution_count": 14,
   "metadata": {
    "collapsed": true
   },
   "outputs": [],
   "source": [
    "ctr = ctr.reduceByKey(lambda a, b: a+b) \n",
    "# ctr.pprint()  "
   ]
  },
  {
   "cell_type": "code",
   "execution_count": 15,
   "metadata": {
    "collapsed": false
   },
   "outputs": [],
   "source": [
    "ctr = ctr.map(lambda kvpair: (mk_int(kvpair[0])%2, (kvpair[1], 1)))\n",
    "# ctr.pprint()  "
   ]
  },
  {
   "cell_type": "code",
   "execution_count": 16,
   "metadata": {
    "collapsed": false
   },
   "outputs": [],
   "source": [
    "ctr = ctr.reduceByKeyAndWindow(lambda a, b: tuple_sum(a, b), None, 12, 6)\n",
    "# ctr.pprint()"
   ]
  },
  {
   "cell_type": "code",
   "execution_count": null,
   "metadata": {
    "collapsed": true
   },
   "outputs": [],
   "source": [
    "ctr = ctr.flatMap(lambda row: insert_into_mysql(row[0], row[1][0], row[1][1]) )\n",
    "ctr.pprint()"
   ]
  },
  {
   "cell_type": "code",
   "execution_count": null,
   "metadata": {
    "collapsed": true
   },
   "outputs": [],
   "source": []
  },
  {
   "cell_type": "code",
   "execution_count": null,
   "metadata": {
    "collapsed": false,
    "scrolled": true
   },
   "outputs": [
    {
     "name": "stdout",
     "output_type": "stream",
     "text": [
      "-------------------------------------------\n",
      "Time: 2017-09-27 17:38:27\n",
      "-------------------------------------------\n",
      "0 1\n",
      "1.05628707857\n",
      "1 1\n",
      "0.956937799043\n",
      "\n",
      "-------------------------------------------\n",
      "Time: 2017-09-27 17:38:33\n",
      "-------------------------------------------\n",
      "0 1\n",
      "1.06321123017\n",
      "1 1\n",
      "1.08740765336\n",
      "\n",
      "-------------------------------------------\n",
      "Time: 2017-09-27 17:38:39\n",
      "-------------------------------------------\n",
      "0 1\n",
      "1.20110192837\n",
      "1 1\n",
      "1.19714442614\n",
      "\n",
      "-------------------------------------------\n",
      "Time: 2017-09-27 17:38:45\n",
      "-------------------------------------------\n",
      "0 1\n",
      "1.21783088235\n",
      "1 1\n",
      "0.942962281509\n",
      "\n",
      "-------------------------------------------\n",
      "Time: 2017-09-27 17:38:51\n",
      "-------------------------------------------\n",
      "0 1\n",
      "1.18640444634\n",
      "1 1\n",
      "0.93567251462\n",
      "\n",
      "-------------------------------------------\n",
      "Time: 2017-09-27 17:38:57\n",
      "-------------------------------------------\n",
      "0 1\n",
      "1.13441780822\n",
      "1 1\n",
      "1.08418367347\n",
      "\n",
      "-------------------------------------------\n",
      "Time: 2017-09-27 17:39:03\n",
      "-------------------------------------------\n",
      "0 1\n",
      "1.03887758381\n",
      "1 1\n",
      "1.04936288682\n",
      "\n",
      "-------------------------------------------\n",
      "Time: 2017-09-27 17:39:09\n",
      "-------------------------------------------\n",
      "0 1\n",
      "1.09411514765\n",
      "1 1\n",
      "0.953996184015\n",
      "\n",
      "-------------------------------------------\n",
      "Time: 2017-09-27 17:39:15\n",
      "-------------------------------------------\n",
      "0 1\n",
      "1.17647058824\n",
      "1 1\n",
      "1.03273778788\n",
      "\n",
      "-------------------------------------------\n",
      "Time: 2017-09-27 17:39:21\n",
      "-------------------------------------------\n",
      "0 1\n",
      "1.07150010014\n",
      "1 1\n",
      "1.18224626791\n",
      "\n",
      "-------------------------------------------\n",
      "Time: 2017-09-27 17:39:27\n",
      "-------------------------------------------\n",
      "0 1\n",
      "0.986448784376\n",
      "1 1\n",
      "1.10414801552\n",
      "\n",
      "-------------------------------------------\n",
      "Time: 2017-09-27 17:39:33\n",
      "-------------------------------------------\n",
      "0 1\n",
      "1.11054508406\n",
      "1 1\n",
      "1.09339873288\n",
      "\n",
      "-------------------------------------------\n",
      "Time: 2017-09-27 17:39:39\n",
      "-------------------------------------------\n",
      "0 1\n",
      "1.01553166069\n",
      "1 1\n",
      "1.18679565174\n",
      "\n",
      "-------------------------------------------\n",
      "Time: 2017-09-27 17:39:45\n",
      "-------------------------------------------\n",
      "0 1\n",
      "0.849692352769\n",
      "1 1\n",
      "1.12140419308\n",
      "\n",
      "-------------------------------------------\n",
      "Time: 2017-09-27 17:39:51\n",
      "-------------------------------------------\n",
      "0 1\n",
      "0.872267896531\n",
      "1 1\n",
      "1.08238123873\n",
      "\n",
      "-------------------------------------------\n",
      "Time: 2017-09-27 17:39:57\n",
      "-------------------------------------------\n",
      "0 1\n",
      "1.00141614404\n",
      "1 1\n",
      "1.02999091184\n",
      "\n"
     ]
    }
   ],
   "source": [
    "ssc.start()  \n",
    "ssc.awaitTermination()"
   ]
  },
  {
   "cell_type": "code",
   "execution_count": null,
   "metadata": {
    "collapsed": true
   },
   "outputs": [],
   "source": [
    "ssc.stop()\n",
    "sc.stop()"
   ]
  },
  {
   "cell_type": "code",
   "execution_count": null,
   "metadata": {
    "collapsed": true
   },
   "outputs": [],
   "source": []
  }
 ],
 "metadata": {
  "kernelspec": {
   "display_name": "Python 2",
   "language": "python",
   "name": "python2"
  },
  "language_info": {
   "codemirror_mode": {
    "name": "ipython",
    "version": 2
   },
   "file_extension": ".py",
   "mimetype": "text/x-python",
   "name": "python",
   "nbconvert_exporter": "python",
   "pygments_lexer": "ipython2",
   "version": "2.7.6"
  }
 },
 "nbformat": 4,
 "nbformat_minor": 0
}
