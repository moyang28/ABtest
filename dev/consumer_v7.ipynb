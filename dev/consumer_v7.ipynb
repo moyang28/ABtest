{
 "cells": [
  {
   "cell_type": "code",
   "execution_count": 1,
   "metadata": {
    "collapsed": false
   },
   "outputs": [],
   "source": [
    "import os  \n",
    "os.environ['PYSPARK_SUBMIT_ARGS'] = '--packages org.apache.spark:spark-streaming-kafka-0-8_2.11:2.0.2 pyspark-shell'  \n",
    "from pyspark import SparkContext  \n",
    "from pyspark.streaming import StreamingContext  \n",
    "from pyspark.streaming.kafka import KafkaUtils   \n",
    "\n",
    "sc = SparkContext(appName=\"CTR\")\n",
    "sc.setLogLevel(\"WARN\")\n",
    "ssc = StreamingContext(sc, 5)\n",
    "\n",
    "# kafkaStream = KafkaUtils.createStream(ssc, 'ec2-52-9-120-149.us-west-1.compute.amazonaws.com:9092', 'spark-streaming-consumer', {'mo-topic':1})  "
   ]
  },
  {
   "cell_type": "code",
   "execution_count": 2,
   "metadata": {
    "collapsed": false
   },
   "outputs": [],
   "source": [
    "directKafkaStream = KafkaUtils.createDirectStream(ssc, ['topic_click'], {\"metadata.broker.list\": 'localhost:9092'})"
   ]
  },
  {
   "cell_type": "code",
   "execution_count": 3,
   "metadata": {
    "collapsed": true
   },
   "outputs": [],
   "source": [
    "lines = directKafkaStream.map(lambda x: x[1])\n"
   ]
  },
  {
   "cell_type": "code",
   "execution_count": 4,
   "metadata": {
    "collapsed": true
   },
   "outputs": [],
   "source": [
    "import re"
   ]
  },
  {
   "cell_type": "code",
   "execution_count": 6,
   "metadata": {
    "collapsed": true
   },
   "outputs": [],
   "source": [
    "def mk_int(s):\n",
    "    s = s.strip()\n",
    "    return int(s) if s else 0"
   ]
  },
  {
   "cell_type": "code",
   "execution_count": 8,
   "metadata": {
    "collapsed": true
   },
   "outputs": [],
   "source": [
    "def tuple_sum(a, b):\n",
    "    return [a[0]+b[0], a[1]+b[1]]"
   ]
  },
  {
   "cell_type": "code",
   "execution_count": 9,
   "metadata": {
    "collapsed": false
   },
   "outputs": [],
   "source": [
    "ctr = lines.flatMap(lambda line: [line.split(\"\\t\")[-1]]) \\\n",
    "    .map(lambda click: (\"ctr\", [mk_int(click), 1])) \\\n",
    "    .reduceByKey(lambda a, b: tuple_sum(a, b)) \\\n",
    "    .flatMap(lambda row: (\"ctr = \", 100.0 * row[1][0] / row[1][1]))"
   ]
  },
  {
   "cell_type": "code",
   "execution_count": 10,
   "metadata": {
    "collapsed": false
   },
   "outputs": [],
   "source": [
    "ctr.pprint()"
   ]
  },
  {
   "cell_type": "code",
   "execution_count": null,
   "metadata": {
    "collapsed": false,
    "scrolled": true
   },
   "outputs": [
    {
     "name": "stdout",
     "output_type": "stream",
     "text": [
      "-------------------------------------------\n",
      "Time: 2017-09-19 18:28:20\n",
      "-------------------------------------------\n",
      "ctr = \n",
      "0.270183108181\n",
      "\n",
      "-------------------------------------------\n",
      "Time: 2017-09-19 18:28:25\n",
      "-------------------------------------------\n",
      "ctr = \n",
      "0.275380943639\n",
      "\n",
      "-------------------------------------------\n",
      "Time: 2017-09-19 18:28:30\n",
      "-------------------------------------------\n",
      "ctr = \n",
      "0.28758694489\n",
      "\n",
      "-------------------------------------------\n",
      "Time: 2017-09-19 18:28:35\n",
      "-------------------------------------------\n",
      "ctr = \n",
      "0.272624717974\n",
      "\n",
      "-------------------------------------------\n",
      "Time: 2017-09-19 18:28:40\n",
      "-------------------------------------------\n",
      "ctr = \n",
      "0.305482946493\n",
      "\n",
      "-------------------------------------------\n",
      "Time: 2017-09-19 18:28:45\n",
      "-------------------------------------------\n",
      "ctr = \n",
      "0.301107297805\n",
      "\n",
      "-------------------------------------------\n",
      "Time: 2017-09-19 18:28:50\n",
      "-------------------------------------------\n",
      "ctr = \n",
      "0.287285308291\n",
      "\n",
      "-------------------------------------------\n",
      "Time: 2017-09-19 18:28:55\n",
      "-------------------------------------------\n",
      "ctr = \n",
      "0.282972841112\n",
      "\n",
      "-------------------------------------------\n",
      "Time: 2017-09-19 18:29:00\n",
      "-------------------------------------------\n",
      "ctr = \n",
      "0.280819994384\n",
      "\n",
      "-------------------------------------------\n",
      "Time: 2017-09-19 18:29:05\n",
      "-------------------------------------------\n",
      "ctr = \n",
      "0.247255834863\n",
      "\n",
      "-------------------------------------------\n",
      "Time: 2017-09-19 18:29:10\n",
      "-------------------------------------------\n",
      "ctr = \n",
      "0.301246063262\n",
      "\n",
      "-------------------------------------------\n",
      "Time: 2017-09-19 18:29:15\n",
      "-------------------------------------------\n",
      "ctr = \n",
      "0.294719861016\n",
      "\n",
      "-------------------------------------------\n",
      "Time: 2017-09-19 18:29:20\n",
      "-------------------------------------------\n",
      "ctr = \n",
      "0.271747818025\n",
      "\n",
      "-------------------------------------------\n",
      "Time: 2017-09-19 18:29:25\n",
      "-------------------------------------------\n",
      "ctr = \n",
      "0.266585421586\n",
      "\n",
      "-------------------------------------------\n",
      "Time: 2017-09-19 18:29:30\n",
      "-------------------------------------------\n",
      "ctr = \n",
      "0.3179767803\n",
      "\n",
      "-------------------------------------------\n",
      "Time: 2017-09-19 18:29:35\n",
      "-------------------------------------------\n",
      "ctr = \n",
      "0.254685064812\n",
      "\n",
      "-------------------------------------------\n",
      "Time: 2017-09-19 18:29:40\n",
      "-------------------------------------------\n",
      "ctr = \n",
      "0.296663409186\n",
      "\n"
     ]
    }
   ],
   "source": [
    "ssc.start()  \n",
    "ssc.awaitTermination()\n",
    "\n",
    "\n"
   ]
  },
  {
   "cell_type": "code",
   "execution_count": null,
   "metadata": {
    "collapsed": true
   },
   "outputs": [],
   "source": [
    "ssc.stop()\n",
    "sc.stop()"
   ]
  },
  {
   "cell_type": "code",
   "execution_count": null,
   "metadata": {
    "collapsed": true
   },
   "outputs": [],
   "source": []
  }
 ],
 "metadata": {
  "kernelspec": {
   "display_name": "Python 2",
   "language": "python",
   "name": "python2"
  },
  "language_info": {
   "codemirror_mode": {
    "name": "ipython",
    "version": 2
   },
   "file_extension": ".py",
   "mimetype": "text/x-python",
   "name": "python",
   "nbconvert_exporter": "python",
   "pygments_lexer": "ipython2",
   "version": "2.7.6"
  }
 },
 "nbformat": 4,
 "nbformat_minor": 0
}
