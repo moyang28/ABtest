{
 "cells": [
  {
   "cell_type": "code",
   "execution_count": 1,
   "metadata": {
    "collapsed": false
   },
   "outputs": [],
   "source": [
    "import os  \n",
    "os.environ['PYSPARK_SUBMIT_ARGS'] = '--packages org.apache.spark:spark-streaming-kafka-0-8_2.11:2.0.2 pyspark-shell'  \n",
    "from pyspark import SparkContext  \n",
    "from pyspark.streaming import StreamingContext  \n",
    "from pyspark.streaming.kafka import KafkaUtils   \n",
    "\n",
    "sc = SparkContext(appName=\"CTR\")\n",
    "sc.setLogLevel(\"WARN\")\n",
    "ssc = StreamingContext(sc, 30)"
   ]
  },
  {
   "cell_type": "code",
   "execution_count": 2,
   "metadata": {
    "collapsed": false
   },
   "outputs": [],
   "source": [
    "directKafkaStream = KafkaUtils.createDirectStream(ssc, ['mo-topic'], {\"metadata.broker.list\": 'localhost:port'})"
   ]
  },
  {
   "cell_type": "code",
   "execution_count": 3,
   "metadata": {
    "collapsed": true
   },
   "outputs": [],
   "source": [
    "offsetRanges = []\n",
    "\n",
    "def storeOffsetRanges(rdd):\n",
    "    global offsetRanges\n",
    "    offsetRanges = rdd.offsetRanges()\n",
    "    return rdd\n",
    "\n",
    "def printOffsetRanges(rdd):\n",
    "    for o in offsetRanges:\n",
    "        print \"%s %s %s %s\" % (o.topic, o.partition, o.fromOffset, o.untilOffset)\n",
    "\n",
    "directKafkaStream \\\n",
    "    .transform(storeOffsetRanges) \\\n",
    "    .foreachRDD(printOffsetRanges)"
   ]
  },
  {
   "cell_type": "code",
   "execution_count": null,
   "metadata": {
    "collapsed": false,
    "scrolled": true
   },
   "outputs": [
    {
     "name": "stdout",
     "output_type": "stream",
     "text": [
      "mo-topic 0 118608 118608\n",
      "mo-topic 0 118608 118608\n",
      "mo-topic 0 118608 118608\n"
     ]
    }
   ],
   "source": [
    "ssc.start()  \n",
    "ssc.awaitTermination()\n",
    "\n",
    "\n"
   ]
  },
  {
   "cell_type": "code",
   "execution_count": null,
   "metadata": {
    "collapsed": true
   },
   "outputs": [],
   "source": [
    "ssc.stop()\n",
    "sc.stop()"
   ]
  },
  {
   "cell_type": "code",
   "execution_count": null,
   "metadata": {
    "collapsed": true
   },
   "outputs": [],
   "source": []
  }
 ],
 "metadata": {
  "kernelspec": {
   "display_name": "Python 2",
   "language": "python",
   "name": "python2"
  },
  "language_info": {
   "codemirror_mode": {
    "name": "ipython",
    "version": 2
   },
   "file_extension": ".py",
   "mimetype": "text/x-python",
   "name": "python",
   "nbconvert_exporter": "python",
   "pygments_lexer": "ipython2",
   "version": "2.7.6"
  }
 },
 "nbformat": 4,
 "nbformat_minor": 0
}
