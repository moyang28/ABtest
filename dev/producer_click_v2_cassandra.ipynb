{
 "cells": [
  {
   "cell_type": "code",
   "execution_count": null,
   "metadata": {
    "collapsed": false
   },
   "outputs": [
    {
     "name": "stdout",
     "output_type": "stream",
     "text": [
      "before\n"
     ]
    }
   ],
   "source": [
    "import botocore\n",
    "import boto3\n",
    "import threading, logging, time\n",
    "from kafka import KafkaProducer\n",
    "import smart_open\n",
    "\n",
    "class Producer(threading.Thread):\n",
    "    daemon = True\n",
    "\n",
    "    def run(self):\n",
    "        producer = KafkaProducer(bootstrap_servers='localhost:port')\n",
    "\n",
    "        bucket_name = 's3bucknm'\n",
    "        bucket = self.__get_s3_bucket__(bucket_name)\n",
    "        # Send data from S3 to Kafka queue\n",
    "        \n",
    "        print(\"before\")\n",
    "        for i in range(1,2):\n",
    "            for line in  smart_open.smart_open(\"s3://s3bucknm/trainSearchStream.tsv\"):\n",
    "#                 print(line)\n",
    "                producer.send('topic_click', line)\n",
    "        print(\"done\")\n",
    "                \n",
    "    # Access S3 bucket\n",
    "    def __get_s3_bucket__(self, bucket_name):\n",
    "        s3 = boto3.resource('s3')\n",
    "        try:\n",
    "            s3.meta.client.head_bucket(Bucket=bucket_name)\n",
    "        except botocore.exceptions.ClientError as e:\n",
    "            # If a client error is thrown, check that it was a 404 error.\n",
    "            # If it was a 404 error, then the bucket does not exist.\n",
    "            error_code = int(e.response['Error']['Code'])\n",
    "            if error_code == 404:\n",
    "                exists = False\n",
    "                print (e.response['404 Error: bucket not found'])\n",
    "            else:\n",
    "                print (e.response['Error'])\n",
    "            return None\n",
    "        else:\n",
    "            return s3.Bucket(bucket_name)\n",
    "\n",
    "\n",
    "if __name__ == \"__main__\":\n",
    "    Producer().start()\n",
    "    while True:\n",
    "        time.sleep(10)\n"
   ]
  },
  {
   "cell_type": "code",
   "execution_count": null,
   "metadata": {
    "collapsed": true
   },
   "outputs": [],
   "source": []
  }
 ],
 "metadata": {
  "kernelspec": {
   "display_name": "Python 2",
   "language": "python",
   "name": "python2"
  },
  "language_info": {
   "codemirror_mode": {
    "name": "ipython",
    "version": 2
   },
   "file_extension": ".py",
   "mimetype": "text/x-python",
   "name": "python",
   "nbconvert_exporter": "python",
   "pygments_lexer": "ipython2",
   "version": "2.7.6"
  }
 },
 "nbformat": 4,
 "nbformat_minor": 0
}
