{
 "cells": [
  {
   "cell_type": "code",
   "execution_count": 1,
   "metadata": {
    "collapsed": false
   },
   "outputs": [],
   "source": [
    "import os  \n",
    "os.environ['PYSPARK_SUBMIT_ARGS'] = '--packages org.apache.spark:spark-streaming-kafka-0-8_2.11:2.0.2 pyspark-shell'  \n",
    "from pyspark import SparkContext  \n",
    "from pyspark.streaming import StreamingContext  \n",
    "from pyspark.streaming.kafka import KafkaUtils   \n",
    "\n",
    "sc = SparkContext(appName=\"CTR\")\n",
    "sc.setLogLevel(\"WARN\")\n",
    "ssc = StreamingContext(sc, 5)\n",
    "\n",
    "ks_click = KafkaUtils.createDirectStream(ssc, ['topic_click'], {\"metadata.broker.list\": 'ec2-52-9-120-149.us-west-1.compute.amazonaws.com:9092'})\n",
    "line_click = ks_click.map(lambda x: x[1])\n",
    "import re\n",
    "def mk_int(s):\n",
    "    s = s.strip()\n",
    "    return int(s) if s else 0\n",
    "def tuple_sum(a, b):\n",
    "    return [a[0]+b[0], a[1]+b[1]]\n",
    "\n",
    "ctr = line_click.flatMap(lambda line: [line.split(\"\\t\")[-1]]) \\\n",
    "    .map(lambda click: (\"ctr\", [mk_int(click), 1])) \\\n",
    "    .reduceByKey(lambda a, b: tuple_sum(a, b)) \\\n",
    "    .flatMap(lambda row: (\"ctr = \", 100.0 * row[1][0] / row[1][1]))\n",
    "    \n",
    "ctr.pprint()\n",
    "ssc.start()  \n",
    "ssc.awaitTermination()\n",
    "ssc.stop()\n",
    "sc.stop()"
   ]
  },
  {
   "cell_type": "code",
   "execution_count": 7,
   "metadata": {
    "collapsed": false
   },
   "outputs": [],
   "source": []
  },
  {
   "cell_type": "code",
   "execution_count": null,
   "metadata": {
    "collapsed": true
   },
   "outputs": [],
   "source": []
  },
  {
   "cell_type": "code",
   "execution_count": null,
   "metadata": {
    "collapsed": true
   },
   "outputs": [],
   "source": []
  }
 ],
 "metadata": {
  "kernelspec": {
   "display_name": "Python 2",
   "language": "python",
   "name": "python2"
  },
  "language_info": {
   "codemirror_mode": {
    "name": "ipython",
    "version": 2
   },
   "file_extension": ".py",
   "mimetype": "text/x-python",
   "name": "python",
   "nbconvert_exporter": "python",
   "pygments_lexer": "ipython2",
   "version": "2.7.6"
  }
 },
 "nbformat": 4,
 "nbformat_minor": 0
}
