{
 "cells": [
  {
   "cell_type": "code",
   "execution_count": 1,
   "metadata": {
    "collapsed": false
   },
   "outputs": [],
   "source": [
    "import os  \n",
    "os.environ['PYSPARK_SUBMIT_ARGS'] = '--packages org.apache.spark:spark-streaming-kafka-0-8_2.11:2.0.2 pyspark-shell'  \n",
    "from pyspark import SparkContext  \n",
    "from pyspark.streaming import StreamingContext  \n",
    "from pyspark.streaming.kafka import KafkaUtils   \n",
    "\n",
    "batch_interval = 1\n",
    "window_length = 12 * batch_interval\n",
    "frequency = 6 * batch_interval\n",
    "\n",
    "sc = SparkContext(appName=\"CTR\")\n",
    "sc.setLogLevel(\"WARN\")\n",
    "ssc = StreamingContext(sc, batch_interval)\n",
    "\n",
    "directKafkaStream = KafkaUtils.createDirectStream(ssc, ['topic_click'], {\"metadata.broker.list\": 'ec2-52-9-120-149.us-west-1.compute.amazonaws.com:9092'})"
   ]
  },
  {
   "cell_type": "code",
   "execution_count": 2,
   "metadata": {
    "collapsed": true
   },
   "outputs": [],
   "source": [
    "lines = directKafkaStream.map(lambda x: x[1])"
   ]
  },
  {
   "cell_type": "code",
   "execution_count": null,
   "metadata": {
    "collapsed": false
   },
   "outputs": [],
   "source": [
    "import re\n",
    "def mk_int(s):\n",
    "    s = s.strip()\n",
    "    return int(s) if s else 0\n",
    "def tuple_sum(a, b):\n",
    "    return [a[0]+b[0], a[1]+b[1]]"
   ]
  },
  {
   "cell_type": "code",
   "execution_count": null,
   "metadata": {
    "collapsed": false
   },
   "outputs": [
    {
     "name": "stdout",
     "output_type": "stream",
     "text": [
      "-------------------------------------------\n",
      "Time: 2017-09-19 22:52:59\n",
      "-------------------------------------------\n",
      "ctr = \n",
      "0.299428364032\n",
      "\n",
      "-------------------------------------------\n",
      "Time: 2017-09-19 22:53:05\n",
      "-------------------------------------------\n",
      "ctr = \n",
      "0.316789862724\n",
      "\n",
      "-------------------------------------------\n",
      "Time: 2017-09-19 22:53:11\n",
      "-------------------------------------------\n",
      "ctr = \n",
      "0.365448504983\n",
      "\n",
      "-------------------------------------------\n",
      "Time: 2017-09-19 22:53:17\n",
      "-------------------------------------------\n",
      "ctr = \n",
      "0.333364200389\n",
      "\n",
      "-------------------------------------------\n",
      "Time: 2017-09-19 22:53:23\n",
      "-------------------------------------------\n",
      "ctr = \n",
      "0.314867424242\n",
      "\n",
      "-------------------------------------------\n",
      "Time: 2017-09-19 22:53:29\n",
      "-------------------------------------------\n",
      "ctr = \n",
      "0.345423143351\n",
      "\n",
      "-------------------------------------------\n",
      "Time: 2017-09-19 22:53:35\n",
      "-------------------------------------------\n",
      "ctr = \n",
      "0.331925165963\n",
      "\n",
      "-------------------------------------------\n",
      "Time: 2017-09-19 22:53:41\n",
      "-------------------------------------------\n",
      "\n"
     ]
    }
   ],
   "source": [
    "ctr = lines.flatMap(lambda line: [line.split(\"\\t\")[-1]]) \\\n",
    "    .map(lambda click: (\"ctr\", [mk_int(click), 1])) \\\n",
    "    .reduceByKeyAndWindow(lambda a, b: tuple_sum(a, b), None, 12, 6) \\\n",
    "    .flatMap(lambda row: (\"ctr = \", 100.0 * row[1][0] / row[1][1]))\n",
    "ctr.pprint()\n",
    "\n",
    "ssc.start()  \n",
    "ssc.awaitTermination()"
   ]
  },
  {
   "cell_type": "code",
   "execution_count": null,
   "metadata": {
    "collapsed": true
   },
   "outputs": [],
   "source": [
    "ssc.stop()\n",
    "sc.stop()"
   ]
  },
  {
   "cell_type": "code",
   "execution_count": null,
   "metadata": {
    "collapsed": true
   },
   "outputs": [],
   "source": []
  }
 ],
 "metadata": {
  "kernelspec": {
   "display_name": "Python 2",
   "language": "python",
   "name": "python2"
  },
  "language_info": {
   "codemirror_mode": {
    "name": "ipython",
    "version": 2
   },
   "file_extension": ".py",
   "mimetype": "text/x-python",
   "name": "python",
   "nbconvert_exporter": "python",
   "pygments_lexer": "ipython2",
   "version": "2.7.6"
  }
 },
 "nbformat": 4,
 "nbformat_minor": 0
}
